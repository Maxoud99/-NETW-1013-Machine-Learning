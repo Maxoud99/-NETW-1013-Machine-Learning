{
 "cells": [
  {
   "cell_type": "markdown",
   "id": "b4e2c2ae",
   "metadata": {},
   "source": [
    "# Classification Model on online payments to determine if a payment Is Fraudulent or not\n",
    "### Mohamed Ahmed Abdelmaksoud 43-16710\n",
    "\n",
    "Requirements:\n",
    "- Divide dataset after importing into Train/Cross Validation/Test\n",
    "\n",
    "- Test various hypothesis with different degrees and optimize your model and parameters using cross validation & test sets as explained in the lecture\n",
    "\n",
    "- Apply K-Fold & Stratified Sampling techniques\n",
    "\n",
    "- Apply Regularization and optimize the value of its parameter\n",
    "https://www.kaggle.com/datasets/rupakroy/online-payments-fraud-detection-dataset\n",
    "-----------"
   ]
  },
  {
   "cell_type": "markdown",
   "id": "5d04cfb1",
   "metadata": {},
   "source": [
    "### Preparing tools for part one.\n",
    "\n",
    "- <font color='red'>Pandas</font> ==> for dealing with dataset.\n",
    "- <font color='red'>Numpy</font> ==> for dealing with statistics.\n",
    "- <font color='red'>Matplotlib, plotly and seaborn</font> ==> for graphs.\n",
    "- <font color='blue'>from sklearn > train_test_split</font> ==> in order to split the data into Train/Cross Validation/Test.\n",
    "- <font color='blue'>from sklearn > processing</font> ==> to process the categorize encoding\n",
    "- <font color='blue'>from sklearn > MinMaxScaler</font> ==> for scaling the data.\n",
    "- <font color='blue'>from sklearn > logistic regression </font> ==> for logistic regression.\n",
    "- <font color='blue'>from sklearn > confusion_matrix </font> ==> confusion_matrix.\n",
    "- <font color='blue'>from sklearn > accuracy_score </font> ==> accuracy_score.\n",
    "- <font color='blue'>from sklearn > mean_squared_error </font> ==> finding the mean squared error.\n",
    "- <font color='blue'>from sklearn > classification_report </font> ==> a report of the classification.\n",
    "- <font color='blue'>from sklearn > validation curve </font> ==> Drwing a curve to validate our model.\n",
    "-----------"
   ]
  },
  {
   "cell_type": "code",
   "execution_count": 42,
   "id": "cf456f90",
   "metadata": {},
   "outputs": [],
   "source": [
    "import numpy as np\n",
    "import pandas as pd\n",
    "import matplotlib.pyplot as plt\n",
    "import seaborn as sns\n",
    "import plotly.express as px\n",
    "%matplotlib inline\n",
    "from sklearn.model_selection import train_test_split\n",
    "from sklearn import preprocessing\n",
    "from sklearn.preprocessing import MinMaxScaler\n",
    "from sklearn.linear_model import LogisticRegression\n",
    "from sklearn.metrics import confusion_matrix\n",
    "from sklearn.metrics import accuracy_score, precision_score, recall_score\n",
    "from sklearn.metrics import mean_squared_error\n",
    "from sklearn.metrics import classification_report\n",
    "from sklearn.model_selection import learning_curve\n",
    "import warnings\n",
    "warnings.filterwarnings('ignore')"
   ]
  },
  {
   "cell_type": "markdown",
   "id": "e5029ab8",
   "metadata": {},
   "source": [
    "# <center> Loading and exploring data </center>\n",
    "- Online payments big dataset for fraud detection modeling, testing and debugging purposes.\n",
    "\n",
    "* The below column reference:\n",
    "\n",
    "> <font color='brown'>step</font>: represents a unit of time where 1 step equals 1 hour.\n",
    ">> Then he calcaulates and records his values every one hour.\n",
    "\n",
    "<!-- <font color='brown'>isFraud</font> -->\n",
    "> <font color='brown'>type</font>: type of online transaction.\n",
    ">> Whether cash, payement, debit or etc. CASH_OUT 35%; PAYMENT 34%; Other (1973625) 31%.\n",
    "\n",
    "> <font color='brown'>amount</font> : the amount of the transaction.\n",
    ">> The amount of money in this transaction. (.i.e, paid 5000 in payement).\n",
    "\n",
    "> <font color='brown'>nameOrig</font>: customer starting the transaction.\n",
    ">> Code for the customer who did the transaction.\n",
    "\n",
    "> <font color='brown'>oldbalanceOrg</font>: balance before the transaction.\n",
    ">> The balance of the customer before this transaction is deducted.\n",
    "\n",
    "> <font color='brown'>newbalanceOrig</font>: balance after the transaction.\n",
    ">> The balance of the customer after the deduction.\n",
    "\n",
    "> <font color='brown'>nameDest</font>: recipient of the transaction.\n",
    ">> Code for the destination facility which the customer paid for.\n",
    "\n",
    "> <font color='brown'>oldbalanceDest</font>: initial balance of recipient before the transaction.\n",
    ">> The balance of the recipient before this transaction is transefered.\n",
    "\n",
    "> <font color='brown'>newbalanceDest</font>: the new balance of recipient after the transaction.\n",
    ">> The balance of the recipient after this transaction is transefered.\n",
    "\n",
    "> <font color='green'>isFraud</font>: fraud transaction.\n",
    ">> A boolean indicates if this transaction in a fraud or not. (our target col)\n",
    "-----------"
   ]
  },
  {
   "cell_type": "code",
   "execution_count": 2,
   "id": "29fa9b46",
   "metadata": {},
   "outputs": [],
   "source": [
    "# Load the date using pandas.\n",
    "data=pd.read_csv('Fraud.csv')"
   ]
  },
  {
   "cell_type": "code",
   "execution_count": 3,
   "id": "090f5954",
   "metadata": {},
   "outputs": [
    {
     "data": {
      "text/html": [
       "<div>\n",
       "<style scoped>\n",
       "    .dataframe tbody tr th:only-of-type {\n",
       "        vertical-align: middle;\n",
       "    }\n",
       "\n",
       "    .dataframe tbody tr th {\n",
       "        vertical-align: top;\n",
       "    }\n",
       "\n",
       "    .dataframe thead th {\n",
       "        text-align: right;\n",
       "    }\n",
       "</style>\n",
       "<table border=\"1\" class=\"dataframe\">\n",
       "  <thead>\n",
       "    <tr style=\"text-align: right;\">\n",
       "      <th></th>\n",
       "      <th>step</th>\n",
       "      <th>type</th>\n",
       "      <th>amount</th>\n",
       "      <th>nameOrig</th>\n",
       "      <th>oldbalanceOrg</th>\n",
       "      <th>newbalanceOrig</th>\n",
       "      <th>nameDest</th>\n",
       "      <th>oldbalanceDest</th>\n",
       "      <th>newbalanceDest</th>\n",
       "      <th>isFraud</th>\n",
       "      <th>isFlaggedFraud</th>\n",
       "    </tr>\n",
       "  </thead>\n",
       "  <tbody>\n",
       "    <tr>\n",
       "      <th>0</th>\n",
       "      <td>1</td>\n",
       "      <td>PAYMENT</td>\n",
       "      <td>9839.64</td>\n",
       "      <td>C1231006815</td>\n",
       "      <td>170136.0</td>\n",
       "      <td>160296.36</td>\n",
       "      <td>M1979787155</td>\n",
       "      <td>0.0</td>\n",
       "      <td>0.0</td>\n",
       "      <td>0</td>\n",
       "      <td>0</td>\n",
       "    </tr>\n",
       "    <tr>\n",
       "      <th>1</th>\n",
       "      <td>1</td>\n",
       "      <td>PAYMENT</td>\n",
       "      <td>1864.28</td>\n",
       "      <td>C1666544295</td>\n",
       "      <td>21249.0</td>\n",
       "      <td>19384.72</td>\n",
       "      <td>M2044282225</td>\n",
       "      <td>0.0</td>\n",
       "      <td>0.0</td>\n",
       "      <td>0</td>\n",
       "      <td>0</td>\n",
       "    </tr>\n",
       "    <tr>\n",
       "      <th>2</th>\n",
       "      <td>1</td>\n",
       "      <td>TRANSFER</td>\n",
       "      <td>181.00</td>\n",
       "      <td>C1305486145</td>\n",
       "      <td>181.0</td>\n",
       "      <td>0.00</td>\n",
       "      <td>C553264065</td>\n",
       "      <td>0.0</td>\n",
       "      <td>0.0</td>\n",
       "      <td>1</td>\n",
       "      <td>0</td>\n",
       "    </tr>\n",
       "    <tr>\n",
       "      <th>3</th>\n",
       "      <td>1</td>\n",
       "      <td>CASH_OUT</td>\n",
       "      <td>181.00</td>\n",
       "      <td>C840083671</td>\n",
       "      <td>181.0</td>\n",
       "      <td>0.00</td>\n",
       "      <td>C38997010</td>\n",
       "      <td>21182.0</td>\n",
       "      <td>0.0</td>\n",
       "      <td>1</td>\n",
       "      <td>0</td>\n",
       "    </tr>\n",
       "    <tr>\n",
       "      <th>4</th>\n",
       "      <td>1</td>\n",
       "      <td>PAYMENT</td>\n",
       "      <td>11668.14</td>\n",
       "      <td>C2048537720</td>\n",
       "      <td>41554.0</td>\n",
       "      <td>29885.86</td>\n",
       "      <td>M1230701703</td>\n",
       "      <td>0.0</td>\n",
       "      <td>0.0</td>\n",
       "      <td>0</td>\n",
       "      <td>0</td>\n",
       "    </tr>\n",
       "  </tbody>\n",
       "</table>\n",
       "</div>"
      ],
      "text/plain": [
       "   step      type    amount     nameOrig  oldbalanceOrg  newbalanceOrig  \\\n",
       "0     1   PAYMENT   9839.64  C1231006815       170136.0       160296.36   \n",
       "1     1   PAYMENT   1864.28  C1666544295        21249.0        19384.72   \n",
       "2     1  TRANSFER    181.00  C1305486145          181.0            0.00   \n",
       "3     1  CASH_OUT    181.00   C840083671          181.0            0.00   \n",
       "4     1   PAYMENT  11668.14  C2048537720        41554.0        29885.86   \n",
       "\n",
       "      nameDest  oldbalanceDest  newbalanceDest  isFraud  isFlaggedFraud  \n",
       "0  M1979787155             0.0             0.0        0               0  \n",
       "1  M2044282225             0.0             0.0        0               0  \n",
       "2   C553264065             0.0             0.0        1               0  \n",
       "3    C38997010         21182.0             0.0        1               0  \n",
       "4  M1230701703             0.0             0.0        0               0  "
      ]
     },
     "execution_count": 3,
     "metadata": {},
     "output_type": "execute_result"
    }
   ],
   "source": [
    "# Viewing the first 10 rows of the data.\n",
    "data.head()"
   ]
  },
  {
   "cell_type": "code",
   "execution_count": 4,
   "id": "269ec33a",
   "metadata": {},
   "outputs": [
    {
     "data": {
      "text/plain": [
       "(6362620, 11)"
      ]
     },
     "execution_count": 4,
     "metadata": {},
     "output_type": "execute_result"
    }
   ],
   "source": [
    "# Exploring the shape of the data.\n",
    "data.shape"
   ]
  },
  {
   "cell_type": "code",
   "execution_count": 5,
   "id": "b613f882",
   "metadata": {
    "scrolled": true
   },
   "outputs": [
    {
     "data": {
      "text/html": [
       "<div>\n",
       "<style scoped>\n",
       "    .dataframe tbody tr th:only-of-type {\n",
       "        vertical-align: middle;\n",
       "    }\n",
       "\n",
       "    .dataframe tbody tr th {\n",
       "        vertical-align: top;\n",
       "    }\n",
       "\n",
       "    .dataframe thead th {\n",
       "        text-align: right;\n",
       "    }\n",
       "</style>\n",
       "<table border=\"1\" class=\"dataframe\">\n",
       "  <thead>\n",
       "    <tr style=\"text-align: right;\">\n",
       "      <th></th>\n",
       "      <th>step</th>\n",
       "      <th>amount</th>\n",
       "      <th>oldbalanceOrg</th>\n",
       "      <th>newbalanceOrig</th>\n",
       "      <th>oldbalanceDest</th>\n",
       "      <th>newbalanceDest</th>\n",
       "      <th>isFraud</th>\n",
       "      <th>isFlaggedFraud</th>\n",
       "    </tr>\n",
       "  </thead>\n",
       "  <tbody>\n",
       "    <tr>\n",
       "      <th>count</th>\n",
       "      <td>6.362620e+06</td>\n",
       "      <td>6.362620e+06</td>\n",
       "      <td>6.362620e+06</td>\n",
       "      <td>6.362620e+06</td>\n",
       "      <td>6.362620e+06</td>\n",
       "      <td>6.362620e+06</td>\n",
       "      <td>6.362620e+06</td>\n",
       "      <td>6.362620e+06</td>\n",
       "    </tr>\n",
       "    <tr>\n",
       "      <th>mean</th>\n",
       "      <td>2.433972e+02</td>\n",
       "      <td>1.798619e+05</td>\n",
       "      <td>8.338831e+05</td>\n",
       "      <td>8.551137e+05</td>\n",
       "      <td>1.100702e+06</td>\n",
       "      <td>1.224996e+06</td>\n",
       "      <td>1.290820e-03</td>\n",
       "      <td>2.514687e-06</td>\n",
       "    </tr>\n",
       "    <tr>\n",
       "      <th>std</th>\n",
       "      <td>1.423320e+02</td>\n",
       "      <td>6.038582e+05</td>\n",
       "      <td>2.888243e+06</td>\n",
       "      <td>2.924049e+06</td>\n",
       "      <td>3.399180e+06</td>\n",
       "      <td>3.674129e+06</td>\n",
       "      <td>3.590480e-02</td>\n",
       "      <td>1.585775e-03</td>\n",
       "    </tr>\n",
       "    <tr>\n",
       "      <th>min</th>\n",
       "      <td>1.000000e+00</td>\n",
       "      <td>0.000000e+00</td>\n",
       "      <td>0.000000e+00</td>\n",
       "      <td>0.000000e+00</td>\n",
       "      <td>0.000000e+00</td>\n",
       "      <td>0.000000e+00</td>\n",
       "      <td>0.000000e+00</td>\n",
       "      <td>0.000000e+00</td>\n",
       "    </tr>\n",
       "    <tr>\n",
       "      <th>25%</th>\n",
       "      <td>1.560000e+02</td>\n",
       "      <td>1.338957e+04</td>\n",
       "      <td>0.000000e+00</td>\n",
       "      <td>0.000000e+00</td>\n",
       "      <td>0.000000e+00</td>\n",
       "      <td>0.000000e+00</td>\n",
       "      <td>0.000000e+00</td>\n",
       "      <td>0.000000e+00</td>\n",
       "    </tr>\n",
       "    <tr>\n",
       "      <th>50%</th>\n",
       "      <td>2.390000e+02</td>\n",
       "      <td>7.487194e+04</td>\n",
       "      <td>1.420800e+04</td>\n",
       "      <td>0.000000e+00</td>\n",
       "      <td>1.327057e+05</td>\n",
       "      <td>2.146614e+05</td>\n",
       "      <td>0.000000e+00</td>\n",
       "      <td>0.000000e+00</td>\n",
       "    </tr>\n",
       "    <tr>\n",
       "      <th>75%</th>\n",
       "      <td>3.350000e+02</td>\n",
       "      <td>2.087215e+05</td>\n",
       "      <td>1.073152e+05</td>\n",
       "      <td>1.442584e+05</td>\n",
       "      <td>9.430367e+05</td>\n",
       "      <td>1.111909e+06</td>\n",
       "      <td>0.000000e+00</td>\n",
       "      <td>0.000000e+00</td>\n",
       "    </tr>\n",
       "    <tr>\n",
       "      <th>max</th>\n",
       "      <td>7.430000e+02</td>\n",
       "      <td>9.244552e+07</td>\n",
       "      <td>5.958504e+07</td>\n",
       "      <td>4.958504e+07</td>\n",
       "      <td>3.560159e+08</td>\n",
       "      <td>3.561793e+08</td>\n",
       "      <td>1.000000e+00</td>\n",
       "      <td>1.000000e+00</td>\n",
       "    </tr>\n",
       "  </tbody>\n",
       "</table>\n",
       "</div>"
      ],
      "text/plain": [
       "               step        amount  oldbalanceOrg  newbalanceOrig  \\\n",
       "count  6.362620e+06  6.362620e+06   6.362620e+06    6.362620e+06   \n",
       "mean   2.433972e+02  1.798619e+05   8.338831e+05    8.551137e+05   \n",
       "std    1.423320e+02  6.038582e+05   2.888243e+06    2.924049e+06   \n",
       "min    1.000000e+00  0.000000e+00   0.000000e+00    0.000000e+00   \n",
       "25%    1.560000e+02  1.338957e+04   0.000000e+00    0.000000e+00   \n",
       "50%    2.390000e+02  7.487194e+04   1.420800e+04    0.000000e+00   \n",
       "75%    3.350000e+02  2.087215e+05   1.073152e+05    1.442584e+05   \n",
       "max    7.430000e+02  9.244552e+07   5.958504e+07    4.958504e+07   \n",
       "\n",
       "       oldbalanceDest  newbalanceDest       isFraud  isFlaggedFraud  \n",
       "count    6.362620e+06    6.362620e+06  6.362620e+06    6.362620e+06  \n",
       "mean     1.100702e+06    1.224996e+06  1.290820e-03    2.514687e-06  \n",
       "std      3.399180e+06    3.674129e+06  3.590480e-02    1.585775e-03  \n",
       "min      0.000000e+00    0.000000e+00  0.000000e+00    0.000000e+00  \n",
       "25%      0.000000e+00    0.000000e+00  0.000000e+00    0.000000e+00  \n",
       "50%      1.327057e+05    2.146614e+05  0.000000e+00    0.000000e+00  \n",
       "75%      9.430367e+05    1.111909e+06  0.000000e+00    0.000000e+00  \n",
       "max      3.560159e+08    3.561793e+08  1.000000e+00    1.000000e+00  "
      ]
     },
     "execution_count": 5,
     "metadata": {},
     "output_type": "execute_result"
    }
   ],
   "source": [
    "data.describe()"
   ]
  },
  {
   "cell_type": "markdown",
   "id": "e5cff8b6",
   "metadata": {},
   "source": [
    "DataFrame.count: Count number of non-NA/null observations.\n",
    "\n",
    "DataFrame.max: Maximum of the values in the object.\n",
    "\n",
    "DataFrame.min: Minimum of the values in the object.\n",
    "\n",
    "DataFrame.mean: Mean of the values.\n",
    "\n",
    "DataFrame.std: Standard deviation of the observations.\n",
    "\n"
   ]
  },
  {
   "cell_type": "code",
   "execution_count": 6,
   "id": "2ba4c706",
   "metadata": {},
   "outputs": [
    {
     "name": "stdout",
     "output_type": "stream",
     "text": [
      "<class 'pandas.core.frame.DataFrame'>\n",
      "RangeIndex: 6362620 entries, 0 to 6362619\n",
      "Data columns (total 11 columns):\n",
      " #   Column          Dtype  \n",
      "---  ------          -----  \n",
      " 0   step            int64  \n",
      " 1   type            object \n",
      " 2   amount          float64\n",
      " 3   nameOrig        object \n",
      " 4   oldbalanceOrg   float64\n",
      " 5   newbalanceOrig  float64\n",
      " 6   nameDest        object \n",
      " 7   oldbalanceDest  float64\n",
      " 8   newbalanceDest  float64\n",
      " 9   isFraud         int64  \n",
      " 10  isFlaggedFraud  int64  \n",
      "dtypes: float64(5), int64(3), object(3)\n",
      "memory usage: 534.0+ MB\n"
     ]
    }
   ],
   "source": [
    "# This method prints a summary of a DataFrame\n",
    "data.info()"
   ]
  },
  {
   "cell_type": "markdown",
   "id": "a56e9d35",
   "metadata": {},
   "source": [
    "-----------\n",
    "#### Data exploration (exploratory data analysis EDA)\n",
    "1. Missing data.\n",
    "2. Values of data inside each col.\n",
    "3. Data distribution.\n",
    "4. Checking correlation.\n",
    "4. Categorical encoding.\n",
    "-----------"
   ]
  },
  {
   "cell_type": "markdown",
   "id": "ffc33ebe",
   "metadata": {},
   "source": [
    "###### 1. Checking missing data"
   ]
  },
  {
   "cell_type": "code",
   "execution_count": 173,
   "id": "c89f9ada",
   "metadata": {},
   "outputs": [],
   "source": [
    "# # Checking missing data using heat map.\n",
    "# sns.heatmap(data.isnull(),yticklabels=False,cbar=False)"
   ]
  },
  {
   "cell_type": "markdown",
   "id": "f6e77363",
   "metadata": {},
   "source": [
    "Totaly black then no missing data."
   ]
  },
  {
   "cell_type": "code",
   "execution_count": 8,
   "id": "ff50f11d",
   "metadata": {},
   "outputs": [
    {
     "name": "stdout",
     "output_type": "stream",
     "text": [
      "step              0\n",
      "type              0\n",
      "amount            0\n",
      "nameOrig          0\n",
      "oldbalanceOrg     0\n",
      "newbalanceOrig    0\n",
      "nameDest          0\n",
      "oldbalanceDest    0\n",
      "newbalanceDest    0\n",
      "isFraud           0\n",
      "isFlaggedFraud    0\n",
      "dtype: int64\n"
     ]
    }
   ],
   "source": [
    "# checking it manualy\n",
    "print(data.isnull().sum())"
   ]
  },
  {
   "cell_type": "markdown",
   "id": "a989f286",
   "metadata": {},
   "source": [
    "-----------\n",
    "###  2. Values of data inside each col."
   ]
  },
  {
   "cell_type": "code",
   "execution_count": 9,
   "id": "54defedc",
   "metadata": {},
   "outputs": [
    {
     "name": "stdout",
     "output_type": "stream",
     "text": [
      "CASH_OUT    2237500\n",
      "PAYMENT     2151495\n",
      "CASH_IN     1399284\n",
      "TRANSFER     532909\n",
      "DEBIT         41432\n",
      "Name: type, dtype: int64\n"
     ]
    }
   ],
   "source": [
    "#understanding the transaction type\n",
    "print(data.type.value_counts())"
   ]
  },
  {
   "cell_type": "code",
   "execution_count": 10,
   "id": "0f0a0779",
   "metadata": {},
   "outputs": [
    {
     "data": {
      "text/plain": [
       "<AxesSubplot:xlabel='type', ylabel='count'>"
      ]
     },
     "execution_count": 10,
     "metadata": {},
     "output_type": "execute_result"
    },
    {
     "data": {
      "image/png": "[encoded data removed]",
      "text/plain": [
       "<Figure size 432x288 with 1 Axes>"
      ]
     },
     "metadata": {
      "needs_background": "light"
     },
     "output_type": "display_data"
    }
   ],
   "source": [
    "sns.countplot(x='type',data=data)"
   ]
  },
  {
   "cell_type": "code",
   "execution_count": 172,
   "id": "ea43b978",
   "metadata": {},
   "outputs": [],
   "source": [
    "# type = data[\"type\"].value_counts()\n",
    "# transactions = type.index\n",
    "# quantity = type.values\n",
    "# figure = px.pie(data, \n",
    "#              values=quantity, \n",
    "#              names=transactions,hole = 0.5, \n",
    "#              title=\"Distribution of Transaction Type\")\n",
    "# figure.show()"
   ]
  },
  {
   "cell_type": "markdown",
   "id": "c8552819",
   "metadata": {},
   "source": [
    "Cash out and payment are the most common type of transactions."
   ]
  },
  {
   "cell_type": "code",
   "execution_count": 12,
   "id": "41b4132c",
   "metadata": {},
   "outputs": [
    {
     "data": {
      "text/plain": [
       "<AxesSubplot:xlabel='type', ylabel='amount'>"
      ]
     },
     "execution_count": 12,
     "metadata": {},
     "output_type": "execute_result"
    },
    {
     "data": {
      "image/png": "[encoded data removed]",
      "text/plain": [
       "<Figure size 432x288 with 1 Axes>"
      ]
     },
     "metadata": {
      "needs_background": "light"
     },
     "output_type": "display_data"
    }
   ],
   "source": [
    "# lets see cash with payement.\n",
    "sns.barplot(x='type',y='amount',data=data)"
   ]
  },
  {
   "cell_type": "markdown",
   "id": "d839ca5a",
   "metadata": {},
   "source": [
    "-----------\n",
    "### 3. Data distribution."
   ]
  },
  {
   "cell_type": "code",
   "execution_count": 13,
   "id": "2a2c6193",
   "metadata": {},
   "outputs": [
    {
     "data": {
      "text/plain": [
       "<AxesSubplot:xlabel='step', ylabel='Density'>"
      ]
     },
     "execution_count": 13,
     "metadata": {},
     "output_type": "execute_result"
    },
    {
     "data": {
      "image/png": "[encoded data removed]",
      "text/plain": [
       "<Figure size 1080x432 with 1 Axes>"
      ]
     },
     "metadata": {
      "needs_background": "light"
     },
     "output_type": "display_data"
    }
   ],
   "source": [
    "#distribution of the step column\n",
    "plt.figure(figsize=(15,6))\n",
    "sns.distplot(data['step'],bins=100)"
   ]
  },
  {
   "cell_type": "code",
   "execution_count": 14,
   "id": "1d885bfe",
   "metadata": {},
   "outputs": [
    {
     "data": {
      "text/plain": [
       "Text(0, 0.5, 'amount')"
      ]
     },
     "execution_count": 14,
     "metadata": {},
     "output_type": "execute_result"
    },
    {
     "data": {
      "image/png": "[encoded data removed]",
      "text/plain": [
       "<Figure size 1080x432 with 1 Axes>"
      ]
     },
     "metadata": {
      "needs_background": "light"
     },
     "output_type": "display_data"
    }
   ],
   "source": [
    "plt.figure(figsize=(15,6))\n",
    "plt.scatter(x='isFraud',y='amount',data=data)\n",
    "plt.xlabel('isFraud')\n",
    "plt.ylabel('amount')"
   ]
  },
  {
   "cell_type": "code",
   "execution_count": 15,
   "id": "4013fcdf",
   "metadata": {},
   "outputs": [
    {
     "data": {
      "text/plain": [
       "0    6354407\n",
       "1       8213\n",
       "Name: isFraud, dtype: int64"
      ]
     },
     "execution_count": 15,
     "metadata": {},
     "output_type": "execute_result"
    }
   ],
   "source": [
    "data['isFraud'].value_counts()"
   ]
  },
  {
   "cell_type": "code",
   "execution_count": 16,
   "id": "bba3843c",
   "metadata": {},
   "outputs": [
    {
     "data": {
      "text/plain": [
       "<matplotlib.legend.Legend at 0x136abf21160>"
      ]
     },
     "execution_count": 16,
     "metadata": {},
     "output_type": "execute_result"
    },
    {
     "data": {
      "image/png": "[encoded data removed]",
      "text/plain": [
       "<Figure size 864x576 with 1 Axes>"
      ]
     },
     "metadata": {
      "needs_background": "light"
     },
     "output_type": "display_data"
    }
   ],
   "source": [
    "plt.figure(figsize=(12,8))\n",
    "sns.countplot(x='isFraud',data=data,hue='type')\n",
    "plt.legend(loc=[0.85,0.8])"
   ]
  },
  {
   "cell_type": "markdown",
   "id": "d6dd2bb0",
   "metadata": {},
   "source": [
    "- 8213 transactions have been tagged as fraudulent in the dataset, which is approx. 0.13% of the total number of transactions.\n",
    "- Although the amount of fraudulent transactions is very low, majority of them are constituted within 0 and 1e7 (10,000,000) amount.\n",
    "- Cash out and payement are having the lion's shareز"
   ]
  },
  {
   "cell_type": "markdown",
   "id": "49e5f6b4",
   "metadata": {},
   "source": [
    "-----------\n",
    "### 4. let us check the correlation."
   ]
  },
  {
   "cell_type": "code",
   "execution_count": 17,
   "id": "4f26ff12",
   "metadata": {},
   "outputs": [
    {
     "name": "stdout",
     "output_type": "stream",
     "text": [
      "isFraud           1.000000\n",
      "amount            0.076688\n",
      "isFlaggedFraud    0.044109\n",
      "step              0.031578\n",
      "oldbalanceOrg     0.010154\n",
      "newbalanceDest    0.000535\n",
      "oldbalanceDest   -0.005885\n",
      "newbalanceOrig   -0.008148\n",
      "Name: isFraud, dtype: float64\n"
     ]
    }
   ],
   "source": [
    "correlation = data.corr()\n",
    "print(correlation[\"isFraud\"].sort_values(ascending=False))"
   ]
  },
  {
   "cell_type": "markdown",
   "id": "d50d748d",
   "metadata": {},
   "source": [
    "- If we put a threshold of 0.3 to indicate relative correlation, it is obivious that there is no correlation between the\n",
    "target value and the remaining features."
   ]
  },
  {
   "cell_type": "markdown",
   "id": "7a13f548",
   "metadata": {},
   "source": [
    "-----------\n",
    "### 5. lets do some categorical encoding."
   ]
  },
  {
   "cell_type": "code",
   "execution_count": 18,
   "id": "f3acc96d",
   "metadata": {},
   "outputs": [],
   "source": [
    "# label_encoder object knows how to understand word labels it translates the categroize into numerical values in same col.\n",
    "label_encoder = preprocessing.LabelEncoder()\n",
    "data['type']= label_encoder.fit_transform(data['type'])\n",
    "data['nameOrig']= label_encoder.fit_transform(data['nameOrig'])\n",
    "data['nameDest']= label_encoder.fit_transform(data['nameDest'])"
   ]
  },
  {
   "cell_type": "code",
   "execution_count": 19,
   "id": "c4e46e90",
   "metadata": {},
   "outputs": [
    {
     "data": {
      "text/html": [
       "<div>\n",
       "<style scoped>\n",
       "    .dataframe tbody tr th:only-of-type {\n",
       "        vertical-align: middle;\n",
       "    }\n",
       "\n",
       "    .dataframe tbody tr th {\n",
       "        vertical-align: top;\n",
       "    }\n",
       "\n",
       "    .dataframe thead th {\n",
       "        text-align: right;\n",
       "    }\n",
       "</style>\n",
       "<table border=\"1\" class=\"dataframe\">\n",
       "  <thead>\n",
       "    <tr style=\"text-align: right;\">\n",
       "      <th></th>\n",
       "      <th>step</th>\n",
       "      <th>type</th>\n",
       "      <th>amount</th>\n",
       "      <th>nameOrig</th>\n",
       "      <th>oldbalanceOrg</th>\n",
       "      <th>newbalanceOrig</th>\n",
       "      <th>nameDest</th>\n",
       "      <th>oldbalanceDest</th>\n",
       "      <th>newbalanceDest</th>\n",
       "      <th>isFraud</th>\n",
       "      <th>isFlaggedFraud</th>\n",
       "    </tr>\n",
       "  </thead>\n",
       "  <tbody>\n",
       "    <tr>\n",
       "      <th>0</th>\n",
       "      <td>1</td>\n",
       "      <td>3</td>\n",
       "      <td>9839.64</td>\n",
       "      <td>757869</td>\n",
       "      <td>170136.0</td>\n",
       "      <td>160296.36</td>\n",
       "      <td>1662094</td>\n",
       "      <td>0.0</td>\n",
       "      <td>0.0</td>\n",
       "      <td>0</td>\n",
       "      <td>0</td>\n",
       "    </tr>\n",
       "    <tr>\n",
       "      <th>1</th>\n",
       "      <td>1</td>\n",
       "      <td>3</td>\n",
       "      <td>1864.28</td>\n",
       "      <td>2188998</td>\n",
       "      <td>21249.0</td>\n",
       "      <td>19384.72</td>\n",
       "      <td>1733924</td>\n",
       "      <td>0.0</td>\n",
       "      <td>0.0</td>\n",
       "      <td>0</td>\n",
       "      <td>0</td>\n",
       "    </tr>\n",
       "    <tr>\n",
       "      <th>2</th>\n",
       "      <td>1</td>\n",
       "      <td>4</td>\n",
       "      <td>181.00</td>\n",
       "      <td>1002156</td>\n",
       "      <td>181.0</td>\n",
       "      <td>0.00</td>\n",
       "      <td>439685</td>\n",
       "      <td>0.0</td>\n",
       "      <td>0.0</td>\n",
       "      <td>1</td>\n",
       "      <td>0</td>\n",
       "    </tr>\n",
       "    <tr>\n",
       "      <th>3</th>\n",
       "      <td>1</td>\n",
       "      <td>1</td>\n",
       "      <td>181.00</td>\n",
       "      <td>5828262</td>\n",
       "      <td>181.0</td>\n",
       "      <td>0.00</td>\n",
       "      <td>391696</td>\n",
       "      <td>21182.0</td>\n",
       "      <td>0.0</td>\n",
       "      <td>1</td>\n",
       "      <td>0</td>\n",
       "    </tr>\n",
       "    <tr>\n",
       "      <th>4</th>\n",
       "      <td>1</td>\n",
       "      <td>3</td>\n",
       "      <td>11668.14</td>\n",
       "      <td>3445981</td>\n",
       "      <td>41554.0</td>\n",
       "      <td>29885.86</td>\n",
       "      <td>828919</td>\n",
       "      <td>0.0</td>\n",
       "      <td>0.0</td>\n",
       "      <td>0</td>\n",
       "      <td>0</td>\n",
       "    </tr>\n",
       "  </tbody>\n",
       "</table>\n",
       "</div>"
      ],
      "text/plain": [
       "   step  type    amount  nameOrig  oldbalanceOrg  newbalanceOrig  nameDest  \\\n",
       "0     1     3   9839.64    757869       170136.0       160296.36   1662094   \n",
       "1     1     3   1864.28   2188998        21249.0        19384.72   1733924   \n",
       "2     1     4    181.00   1002156          181.0            0.00    439685   \n",
       "3     1     1    181.00   5828262          181.0            0.00    391696   \n",
       "4     1     3  11668.14   3445981        41554.0        29885.86    828919   \n",
       "\n",
       "   oldbalanceDest  newbalanceDest  isFraud  isFlaggedFraud  \n",
       "0             0.0             0.0        0               0  \n",
       "1             0.0             0.0        0               0  \n",
       "2             0.0             0.0        1               0  \n",
       "3         21182.0             0.0        1               0  \n",
       "4             0.0             0.0        0               0  "
      ]
     },
     "execution_count": 19,
     "metadata": {},
     "output_type": "execute_result"
    }
   ],
   "source": [
    "data.head()"
   ]
  },
  {
   "cell_type": "markdown",
   "id": "9a354581",
   "metadata": {},
   "source": [
    "-----------\n",
    "# <center> Buidling the model and dividing the data set </center>\n",
    "-----------"
   ]
  },
  {
   "cell_type": "code",
   "execution_count": 20,
   "id": "5c6bc43f",
   "metadata": {},
   "outputs": [],
   "source": [
    "# axis : {0 or 'index', 1 or 'columns'}, default 0 Whether to drop labels from the index (0 or 'index') or columns (1 or 'columns').\n",
    "X = data.drop('isFraud', axis=1)\n",
    "y = data['isFraud']\n"
   ]
  },
  {
   "cell_type": "code",
   "execution_count": 21,
   "id": "6a032c49",
   "metadata": {},
   "outputs": [],
   "source": [
    "scaler = MinMaxScaler()\n",
    "scaler.fit(X)\n",
    "X = scaler.transform(X)"
   ]
  },
  {
   "cell_type": "code",
   "execution_count": 22,
   "id": "ef1f95ae",
   "metadata": {},
   "outputs": [],
   "source": [
    "X_train, X_test, y_train, y_test = train_test_split(X, y, test_size=0.2,random_state=101)\n",
    "X_train, X_valid, y_train, y_valid = train_test_split(X_train, y_train, \n",
    "    test_size=0.25,random_state=101) #0.8*0.25=0.2"
   ]
  },
  {
   "cell_type": "code",
   "execution_count": 23,
   "id": "d5c4a2c7",
   "metadata": {},
   "outputs": [
    {
     "data": {
      "text/plain": [
       "LogisticRegression(penalty='none', random_state=0)"
      ]
     },
     "execution_count": 23,
     "metadata": {},
     "output_type": "execute_result"
    }
   ],
   "source": [
    "# here we intialize the model and fit it to the train data\n",
    "classifier = LogisticRegression(penalty= 'none',random_state = 0)\n",
    "classifier.fit(X_train, y_train)"
   ]
  },
  {
   "cell_type": "code",
   "execution_count": 24,
   "id": "c17585cf",
   "metadata": {},
   "outputs": [],
   "source": [
    "# feed our model with the cross validation data\n",
    "y_pred_valid = classifier.predict(X_valid)"
   ]
  },
  {
   "cell_type": "markdown",
   "id": "1da5a7a6",
   "metadata": {},
   "source": [
    "\n",
    "### Evaluate the Model\n",
    "-----------"
   ]
  },
  {
   "cell_type": "code",
   "execution_count": 25,
   "id": "506d8dca",
   "metadata": {},
   "outputs": [
    {
     "name": "stdout",
     "output_type": "stream",
     "text": [
      "Confusion Matrix : \n",
      " 1270782 81 949 712\n"
     ]
    }
   ],
   "source": [
    "[tn, fp, fn, tp]= confusion_matrix(y_valid, y_pred_valid).ravel()\n",
    " \n",
    "print (\"Confusion Matrix : \\n\", tn, fp, fn, tp )"
   ]
  },
  {
   "cell_type": "code",
   "execution_count": 26,
   "id": "3c9d23af",
   "metadata": {},
   "outputs": [],
   "source": [
    "# lets make the cost function\n",
    "def cost_function_j(y_pred,y):\n",
    "    m = y.shape[0]\n",
    "    return (1/(2*m))*np.sum((y_pred-y)**2)"
   ]
  },
  {
   "cell_type": "code",
   "execution_count": 27,
   "id": "ca75125e",
   "metadata": {},
   "outputs": [],
   "source": [
    "def cost(y_predict, y, X):\n",
    "    y1 = y_predict\n",
    "    return -(1/len(X)) * np.sum(y*np.log(y1) + (1-y)*np.log(1-y1))\n",
    "# This is just a straightforward implementation of the cost function equation above."
   ]
  },
  {
   "cell_type": "code",
   "execution_count": 28,
   "id": "0eefd275",
   "metadata": {
    "scrolled": true
   },
   "outputs": [
    {
     "name": "stdout",
     "output_type": "stream",
     "text": [
      "0.0004047074947112982\n",
      "0.0004019570554268525\n"
     ]
    }
   ],
   "source": [
    "print(cost_function_j(y_valid, y_pred_valid))\n",
    "print(cost_function_j(y_test, classifier.predict(X_test)))"
   ]
  },
  {
   "cell_type": "code",
   "execution_count": 29,
   "id": "b82753a8",
   "metadata": {},
   "outputs": [
    {
     "name": "stdout",
     "output_type": "stream",
     "text": [
      "Accuracy :  0.9991905850105774\n",
      "Accuracy :  0.9991960858891463\n"
     ]
    }
   ],
   "source": [
    "# accuracy_score cthis function computes subset accuracy:\n",
    "# the set of labels predicted for a sample must *exactly* match the\n",
    "# corresponding set of labels in y_true.\n",
    "print (\"Accuracy : \", accuracy_score(y_valid, y_pred_valid))\n",
    "print (\"Accuracy : \", accuracy_score(y_test, classifier.predict(X_test)))"
   ]
  },
  {
   "cell_type": "code",
   "execution_count": 30,
   "id": "fe7e8244",
   "metadata": {
    "scrolled": true
   },
   "outputs": [
    {
     "name": "stdout",
     "output_type": "stream",
     "text": [
      "              precision    recall  f1-score   support\n",
      "\n",
      "           0       1.00      1.00      1.00   1270863\n",
      "           1       0.90      0.43      0.58      1661\n",
      "\n",
      "    accuracy                           1.00   1272524\n",
      "   macro avg       0.95      0.71      0.79   1272524\n",
      "weighted avg       1.00      1.00      1.00   1272524\n",
      "\n"
     ]
    }
   ],
   "source": [
    "# Recall is the ratio of correctly predicted outcomes to all predictions. It is also known as sensitivity or specificity\n",
    "# Accuracy is the ratio of correct predictions out of all predictions made by an algorithm. It can be calculated by dividing precision by recall or as 1 minus false negative rate (FNR) divided by false positive rate (FPR).\n",
    "# The F1-score combines these three metrics into one single metric that ranges from 0 to 1 and it takes into account both Precision and Recall. The F1 score is needed when accuracy and how many of your ads are shown are important to you\n",
    "print(classification_report(y_valid,y_pred_valid))"
   ]
  },
  {
   "cell_type": "code",
   "execution_count": 43,
   "id": "6ecf8607",
   "metadata": {},
   "outputs": [
    {
     "name": "stdout",
     "output_type": "stream",
     "text": [
      "0.4286574352799518\n"
     ]
    }
   ],
   "source": [
    "print(recall_score(y_valid,y_pred_valid))"
   ]
  },
  {
   "cell_type": "code",
   "execution_count": 40,
   "id": "71a68a01",
   "metadata": {},
   "outputs": [],
   "source": [
    "from sklearn import metrics"
   ]
  },
  {
   "cell_type": "code",
   "execution_count": 41,
   "id": "f481a3ff",
   "metadata": {},
   "outputs": [
    {
     "data": {
      "text/plain": [
       "array([[1270782,      81],\n",
       "       [    949,     712]], dtype=int64)"
      ]
     },
     "execution_count": 41,
     "metadata": {},
     "output_type": "execute_result"
    }
   ],
   "source": [
    "c_matrix = metrics.confusion_matrix(y_valid,y_pred_valid)\n",
    "c_matrix"
   ]
  },
  {
   "cell_type": "code",
   "execution_count": 100,
   "id": "da4a7727",
   "metadata": {},
   "outputs": [
    {
     "name": "stdout",
     "output_type": "stream",
     "text": [
      "              precision    recall  f1-score   support\n",
      "\n",
      "           0       1.00      1.00      1.00   1270897\n",
      "           1       0.93      0.40      0.56      1627\n",
      "\n",
      "    accuracy                           1.00   1272524\n",
      "   macro avg       0.96      0.70      0.78   1272524\n",
      "weighted avg       1.00      1.00      1.00   1272524\n",
      "\n"
     ]
    }
   ],
   "source": [
    "print(classification_report(y_test,classifier.predict(X_test)))"
   ]
  },
  {
   "cell_type": "markdown",
   "id": "d62525da",
   "metadata": {},
   "source": [
    "### What does this mean?\n",
    "- Precision false positive rate.\n",
    "- Recall true positive rate."
   ]
  },
  {
   "cell_type": "markdown",
   "id": "5395438a",
   "metadata": {},
   "source": [
    "-----------------\n",
    "## <center> Testing different parameters to understand how accuracies change. </center>\n",
    "##### <center> + </center>\n",
    "## <center> Regularization. </center>"
   ]
  },
  {
   "cell_type": "markdown",
   "id": "1d85b7a0",
   "metadata": {},
   "source": [
    "Understanding how decision regions change when using different regularization values.\n",
    "\n",
    "Remember that we use paramter C as our regularization parameter. Parameter C = 1/λ.\n",
    "\n",
    "Lambda (λ) controls the trade-off between allowing the model to increase it's complexity as much as it wants with trying to keep it simple.\n",
    "\n",
    "For example, if λ is very low or 0, the model will have enough power to increase it's complexity (overfit) by assigning big values to the weights for each parameter. \n",
    "\n",
    "If, in the other hand, we increase the value of λ, the model will tend to underfit, as the model will become too simple.\n",
    "\n",
    "Parameter C will work the other way around. For small values of C, we increase the regularization strength which will create simple models which underfit the data. For big values of C, we low the power of regularization which imples the model is allowed to increase it's complexity, and therefore, overfit the data.\n",
    "\n",
    "#### what is L1 and L2?\n",
    ">> A regression model that uses L1 regularization technique is called Lasso Regression and model which uses L2 is called Ridge    Regression.\n",
    "\n",
    ">> The key difference between these two is the penalty term.\n",
    "\n",
    ">> Ridge regression adds “squared magnitude” of coefficient as penalty term to the loss function. Here the highlighted part       represents L2 regularization element.\n",
    "\n",
    "-----------"
   ]
  },
  {
   "cell_type": "code",
   "execution_count": 45,
   "id": "b6b82502",
   "metadata": {},
   "outputs": [],
   "source": [
    "# https://www.kaggle.com/code/joparga3/2-tuning-parameters-for-logistic-regression/notebook"
   ]
  },
  {
   "cell_type": "markdown",
   "id": "41212199",
   "metadata": {},
   "source": [
    "-----------\n",
    "#### First try different c with the L2 penalty (ridge)"
   ]
  },
  {
   "cell_type": "code",
   "execution_count": 69,
   "id": "fd71817e",
   "metadata": {},
   "outputs": [
    {
     "data": {
      "image/png": "[encoded data removed]",
      "text/plain": [
       "<Figure size 432x288 with 1 Axes>"
      ]
     },
     "metadata": {
      "needs_background": "light"
     },
     "output_type": "display_data"
    }
   ],
   "source": [
    "predict_val=[]\n",
    "predict_train=[]\n",
    "min=[]\n",
    "C_param_range = [0.001,0.01,0.1,1,5,10,100, 100]\n",
    "for i in C_param_range:\n",
    "    lr_clf=LogisticRegression(C=i)\n",
    "    lr_clf.fit(X_train,y_train)\n",
    "    pred_val=lr_clf.predict(X_valid)\n",
    "    accuracy_val=accuracy_score(y_valid,pred_val)\n",
    "    err_val=1-accuracy_val\n",
    "    predict_val.append(1-accuracy_val)\n",
    "    \n",
    "    pred_train=lr_clf.predict(X_train)\n",
    "    accuracy_train=accuracy_score(y_train,pred_train)\n",
    "    predict_train.append(1-accuracy_train)\n",
    "\n",
    "\n",
    "    \n",
    "fig, ax = plt.subplots()\n",
    "ax.plot(C_param_range, predict_train, '-b', label='Train')\n",
    "ax.plot(C_param_range, predict_val, '-r', label='Cross_validation')\n",
    "plt.xlabel(\"lambda (Regularization)\")\n",
    "plt.ylabel(\"Cost Function\")\n",
    "leg = ax.legend();"
   ]
  },
  {
   "cell_type": "code",
   "execution_count": 31,
   "id": "58cb1f0d",
   "metadata": {},
   "outputs": [
    {
     "name": "stdout",
     "output_type": "stream",
     "text": [
      "              precision    recall  f1-score   support\n",
      "\n",
      "           0       1.00      1.00      1.00   1270897\n",
      "           1       0.96      0.34      0.50      1627\n",
      "\n",
      "    accuracy                           1.00   1272524\n",
      "   macro avg       0.98      0.67      0.75   1272524\n",
      "weighted avg       1.00      1.00      1.00   1272524\n",
      "\n"
     ]
    }
   ],
   "source": [
    "# here we intialize the model and fit it to the train data\n",
    "classifier = LogisticRegression(penalty= 'l2',C=100)\n",
    "classifier.fit(X_train, y_train)\n",
    "print(classification_report(y_test,classifier.predict(X_test)))"
   ]
  },
  {
   "cell_type": "code",
   "execution_count": 47,
   "id": "2109b83a",
   "metadata": {},
   "outputs": [
    {
     "name": "stdout",
     "output_type": "stream",
     "text": [
      "0.3423478795328826\n"
     ]
    }
   ],
   "source": [
    "print(recall_score(y_test,classifier.predict(X_test)))"
   ]
  },
  {
   "cell_type": "code",
   "execution_count": 49,
   "id": "32153f7b",
   "metadata": {},
   "outputs": [
    {
     "data": {
      "text/plain": [
       "array([[1270872,      25],\n",
       "       [   1070,     557]], dtype=int64)"
      ]
     },
     "execution_count": 49,
     "metadata": {},
     "output_type": "execute_result"
    }
   ],
   "source": [
    "c_matrix = metrics.confusion_matrix(y_test,classifier.predict(X_test))\n",
    "c_matrix"
   ]
  },
  {
   "cell_type": "code",
   "execution_count": 45,
   "id": "38f3e3f7",
   "metadata": {
    "scrolled": true
   },
   "outputs": [
    {
     "name": "stdout",
     "output_type": "stream",
     "text": [
      "              precision    recall  f1-score   support\n",
      "\n",
      "           0       1.00      1.00      1.00   1270897\n",
      "           1       0.96      0.34      0.50      1627\n",
      "\n",
      "    accuracy                           1.00   1272524\n",
      "   macro avg       0.98      0.67      0.75   1272524\n",
      "weighted avg       1.00      1.00      1.00   1272524\n",
      "\n"
     ]
    }
   ],
   "source": [
    "print(classification_report(y_test,classifier.predict(X_test)))"
   ]
  },
  {
   "cell_type": "markdown",
   "id": "cf677387",
   "metadata": {},
   "source": [
    "from the curve we can conclude that the best C is 100 then lambda equals 0.01"
   ]
  },
  {
   "cell_type": "markdown",
   "id": "7bf8209b",
   "metadata": {},
   "source": [
    "-----------\n",
    "#### second try different c with the L1 penalty (Lasso).\n"
   ]
  },
  {
   "cell_type": "code",
   "execution_count": 67,
   "id": "afd70a65",
   "metadata": {
    "scrolled": true
   },
   "outputs": [
    {
     "data": {
      "image/png": "[encoded data removed]",
      "text/plain": [
       "<Figure size 432x288 with 1 Axes>"
      ]
     },
     "metadata": {
      "needs_background": "light"
     },
     "output_type": "display_data"
    }
   ],
   "source": [
    "predict_val=[]\n",
    "predict_train=[]\n",
    "min=[]\n",
    "C_param_range = [0.001,0.01,0.1,1,5,10,100]\n",
    "for i in C_param_range:\n",
    "    lr_clf=LogisticRegression(penalty='l1', C=i, solver='saga')\n",
    "    lr_clf.fit(X_train,y_train)\n",
    "    pred_val=lr_clf.predict(X_valid)\n",
    "    predict_val.append(cost_function_j(y_valid,pred_val))\n",
    "#     err_val=1-accuracy_val\n",
    "#     predict_val.append(1-accuracy_val)\n",
    "    \n",
    "    pred_train=lr_clf.predict(X_train)\n",
    "    predict_train.append(cost_function_j(y_train,pred_train))\n",
    "#     predict_train.append(1-accuracy_train)\n",
    "\n",
    "\n",
    "    \n",
    "fig, ax = plt.subplots()\n",
    "ax.plot(C_param_range, predict_train, '-b', label='Train')\n",
    "ax.plot(C_param_range, predict_val, '-r', label='Cross_validation')\n",
    "plt.xlabel(\"lambda (Regularization)\")\n",
    "plt.ylabel(\"Cost Function\")\n",
    "leg = ax.legend();"
   ]
  },
  {
   "cell_type": "markdown",
   "id": "368c5582",
   "metadata": {},
   "source": [
    "The data is plateauing"
   ]
  },
  {
   "cell_type": "code",
   "execution_count": 32,
   "id": "f85fa146",
   "metadata": {},
   "outputs": [
    {
     "name": "stdout",
     "output_type": "stream",
     "text": [
      "              precision    recall  f1-score   support\n",
      "\n",
      "           0       1.00      1.00      1.00   1270897\n",
      "           1       0.96      0.34      0.50      1627\n",
      "\n",
      "    accuracy                           1.00   1272524\n",
      "   macro avg       0.98      0.67      0.75   1272524\n",
      "weighted avg       1.00      1.00      1.00   1272524\n",
      "\n"
     ]
    }
   ],
   "source": [
    "# here we intialize the model and fit it to the train data\n",
    "classifier = LogisticRegression(penalty= 'l1',C=100, solver='saga')\n",
    "classifier.fit(X_train, y_train)\n",
    "print(classification_report(y_test,classifier.predict(X_test)))"
   ]
  },
  {
   "cell_type": "markdown",
   "id": "7933a5fa",
   "metadata": {},
   "source": [
    "####  Another way for regularization"
   ]
  },
  {
   "cell_type": "code",
   "execution_count": 50,
   "id": "61fe86a0",
   "metadata": {},
   "outputs": [
    {
     "name": "stdout",
     "output_type": "stream",
     "text": [
      "MAE: 0.370\n",
      "Config: {'C': 100}\n"
     ]
    }
   ],
   "source": [
    "from sklearn.model_selection import GridSearchCV\n",
    "from sklearn.model_selection import RepeatedKFold\n",
    "model = LogisticRegression(penalty=\"l2\")\n",
    "# define model evaluation method\n",
    "cv = RepeatedKFold(n_splits=10, n_repeats=3, random_state=1)\n",
    "# define grid\n",
    "grid = dict()\n",
    "grid['C'] = [0.001,0.01,0.1,1,5,10,100]\n",
    "# define search\n",
    "search = GridSearchCV(model, grid, scoring='recall', cv=cv, n_jobs=-1)\n",
    "# perform the search\n",
    "results = search.fit(X, y)\n",
    "# summarize\n",
    "print('MAE: %.3f' % results.best_score_)\n",
    "print('Config: %s' % results.best_params_)"
   ]
  },
  {
   "cell_type": "code",
   "execution_count": 105,
   "id": "15ef8908",
   "metadata": {},
   "outputs": [
    {
     "name": "stdout",
     "output_type": "stream",
     "text": [
      "MAE: -0.001\n",
      "Config: {'C': 100}\n"
     ]
    }
   ],
   "source": [
    "from sklearn.model_selection import GridSearchCV\n",
    "from sklearn.model_selection import RepeatedKFold\n",
    "model = LogisticRegression(penalty=\"l1\",solver='saga')\n",
    "# define model evaluation method\n",
    "cv = RepeatedKFold(n_splits=4, n_repeats=1, random_state=1)\n",
    "# define grid\n",
    "grid = dict()\n",
    "grid['C'] = [0.001,0.01,0.1,1,5,10,100]\n",
    "# define search\n",
    "search = GridSearchCV(model, grid, scoring='neg_mean_absolute_error', cv=cv, n_jobs=-1)\n",
    "# perform the search\n",
    "results = search.fit(X, y)\n",
    "# summarize\n",
    "print('MAE: %.3f' % results.best_score_)\n",
    "print('Config: %s' % results.best_params_)"
   ]
  },
  {
   "cell_type": "code",
   "execution_count": null,
   "id": "1abf1b10",
   "metadata": {},
   "outputs": [],
   "source": []
  },
  {
   "cell_type": "code",
   "execution_count": null,
   "id": "37b37335",
   "metadata": {},
   "outputs": [],
   "source": []
  },
  {
   "cell_type": "code",
   "execution_count": null,
   "id": "19bf6192",
   "metadata": {},
   "outputs": [],
   "source": []
  },
  {
   "cell_type": "markdown",
   "id": "cfc27a69",
   "metadata": {},
   "source": [
    "from the curve we can conclude that the best C is 5 then lambda equals 0.2"
   ]
  },
  {
   "cell_type": "markdown",
   "id": "f8ab5264",
   "metadata": {},
   "source": [
    "# <center> Apply K-Fold & Stratified Sampling techniques </center>\n",
    "- KFold is a cross-validator that divides the dataset into k folds.\n",
    "\n",
    "- Stratified is to ensure that each fold of dataset has the same proportion of observations with a given label.\n",
    "\n",
    "- So, it means that StratifiedKFold is the improved version of KFold"
   ]
  },
  {
   "cell_type": "markdown",
   "id": "b74419a1",
   "metadata": {},
   "source": [
    "### 1. stratified k-fold\n",
    "Stratified K fold cross-validation object is a variation of KFold that returns stratified folds. The folds are made by preserving the percentage of samples for each class."
   ]
  },
  {
   "cell_type": "code",
   "execution_count": 34,
   "id": "f6f2277d",
   "metadata": {},
   "outputs": [],
   "source": [
    "# https://www.geeksforgeeks.org/stratified-k-fold-cross-validation/?ref=gcse\n",
    "from statistics import mean, stdev\n",
    "from sklearn import preprocessing\n",
    "from sklearn.model_selection import StratifiedKFold\n",
    "from sklearn import linear_model\n",
    "from sklearn import datasets\n",
    "# Create StratifiedKFold object.\n",
    "skf = StratifiedKFold(n_splits=10, shuffle=True, random_state=1)\n",
    "lst_accu_stratified = []\n",
    "lr = LogisticRegression(C=100)\n",
    "# Feature Scaling for input features.\n",
    "scaler = MinMaxScaler()\n",
    "scaler.fit(X)\n",
    "x_scaled = scaler.transform(X)\n",
    "\n",
    "for train_index, test_index in skf.split(X, y):\n",
    "    x_train_fold, x_test_fold = x_scaled[train_index], x_scaled[test_index]\n",
    "    y_train_fold, y_test_fold = y[train_index], y[test_index]\n",
    "    lr.fit(x_train_fold, y_train_fold)\n",
    "    lst_accu_stratified.append(lr.score(x_test_fold, y_test_fold))\n",
    "  "
   ]
  },
  {
   "cell_type": "markdown",
   "id": "ceacfb59",
   "metadata": {},
   "source": [
    "the upper method id on ridge"
   ]
  },
  {
   "cell_type": "code",
   "execution_count": 35,
   "id": "86f54910",
   "metadata": {},
   "outputs": [
    {
     "name": "stdout",
     "output_type": "stream",
     "text": [
      "List of possible accuracy: [0.9989925533820974, 0.9989909817025062, 0.9990365604106485, 0.9990318453718751, 0.9989941250616884, 0.9990129852167817, 0.9990334170514662, 0.9989941250616884, 0.9990255586535106, 0.9990287020126929]\n",
      "\n",
      "Maximum Accuracy That can be obtained from this model is: 99.90365604106485 %\n",
      "\n",
      "Minimum Accuracy: 99.89909817025062 %\n",
      "\n",
      "Overall Accuracy: 99.90140853924956 %\n",
      "\n",
      "Standard Deviation is: 1.9249778101984054e-05\n"
     ]
    }
   ],
   "source": [
    "# Print the output.\n",
    "print('List of possible accuracy:', lst_accu_stratified)\n",
    "print('\\nMaximum Accuracy That can be obtained from this model is:',\n",
    "      np.max(lst_accu_stratified)*100, '%')\n",
    "print('\\nMinimum Accuracy:',\n",
    "      np.min(lst_accu_stratified)*100, '%')\n",
    "print('\\nOverall Accuracy:',\n",
    "      mean(lst_accu_stratified)*100, '%')\n",
    "print('\\nStandard Deviation is:', stdev(lst_accu_stratified))"
   ]
  },
  {
   "cell_type": "markdown",
   "id": "cb579cf9",
   "metadata": {},
   "source": [
    "### 2. Normal k-fold"
   ]
  },
  {
   "cell_type": "code",
   "execution_count": 36,
   "id": "50e81629",
   "metadata": {},
   "outputs": [
    {
     "name": "stdout",
     "output_type": "stream",
     "text": [
      "Accuracy: 0.999 (0.000)\n"
     ]
    }
   ],
   "source": [
    "#load scikit-learn k-fold cross-validation\n",
    "from numpy import mean\n",
    "from numpy import std\n",
    "from sklearn.datasets import make_classification\n",
    "from sklearn.model_selection import KFold\n",
    "from sklearn.model_selection import cross_val_score\n",
    "from sklearn.linear_model import LogisticRegression\n",
    "\n",
    "#setup for k-Fold Cross Validation\n",
    "cv = KFold(n_splits=20, shuffle=True, random_state=0)\n",
    "#define model\n",
    "model = lr\n",
    "#create model, perform cross validation and evaluate model\n",
    "scores = cross_val_score(model, X, y, scoring='accuracy', cv=cv, n_jobs=-1)\n",
    "#performance result\n",
    "print('Accuracy: %.3f (%.3f)' % (mean(scores), std(scores)))"
   ]
  },
  {
   "cell_type": "markdown",
   "id": "088e8c8f",
   "metadata": {},
   "source": [
    "### 3. Stratified Sampling Using Proportions and counts\n",
    "Stratified random sampling is a sampling method that involves taking samples of a population subdivided into smaller groups called strata. These strata are based on shared characteristics such as demographic traits."
   ]
  },
  {
   "cell_type": "code",
   "execution_count": 37,
   "id": "63f62079",
   "metadata": {},
   "outputs": [
    {
     "data": {
      "text/html": [
       "<div>\n",
       "<style scoped>\n",
       "    .dataframe tbody tr th:only-of-type {\n",
       "        vertical-align: middle;\n",
       "    }\n",
       "\n",
       "    .dataframe tbody tr th {\n",
       "        vertical-align: top;\n",
       "    }\n",
       "\n",
       "    .dataframe thead th {\n",
       "        text-align: right;\n",
       "    }\n",
       "</style>\n",
       "<table border=\"1\" class=\"dataframe\">\n",
       "  <thead>\n",
       "    <tr style=\"text-align: right;\">\n",
       "      <th></th>\n",
       "      <th>step</th>\n",
       "      <th>type</th>\n",
       "      <th>amount</th>\n",
       "      <th>nameOrig</th>\n",
       "      <th>oldbalanceOrg</th>\n",
       "      <th>newbalanceOrig</th>\n",
       "      <th>nameDest</th>\n",
       "      <th>oldbalanceDest</th>\n",
       "      <th>newbalanceDest</th>\n",
       "      <th>isFraud</th>\n",
       "      <th>isFlaggedFraud</th>\n",
       "    </tr>\n",
       "  </thead>\n",
       "  <tbody>\n",
       "    <tr>\n",
       "      <th>0</th>\n",
       "      <td>279</td>\n",
       "      <td>3</td>\n",
       "      <td>12839.66</td>\n",
       "      <td>2488915</td>\n",
       "      <td>111738.98</td>\n",
       "      <td>98899.32</td>\n",
       "      <td>1552586</td>\n",
       "      <td>0.00</td>\n",
       "      <td>0.00</td>\n",
       "      <td>0</td>\n",
       "      <td>0</td>\n",
       "    </tr>\n",
       "    <tr>\n",
       "      <th>1</th>\n",
       "      <td>275</td>\n",
       "      <td>1</td>\n",
       "      <td>3282.74</td>\n",
       "      <td>4100943</td>\n",
       "      <td>0.00</td>\n",
       "      <td>0.00</td>\n",
       "      <td>291917</td>\n",
       "      <td>1657748.28</td>\n",
       "      <td>1661031.02</td>\n",
       "      <td>0</td>\n",
       "      <td>0</td>\n",
       "    </tr>\n",
       "    <tr>\n",
       "      <th>2</th>\n",
       "      <td>353</td>\n",
       "      <td>3</td>\n",
       "      <td>27644.19</td>\n",
       "      <td>4018642</td>\n",
       "      <td>39973.00</td>\n",
       "      <td>12328.81</td>\n",
       "      <td>1694895</td>\n",
       "      <td>0.00</td>\n",
       "      <td>0.00</td>\n",
       "      <td>0</td>\n",
       "      <td>0</td>\n",
       "    </tr>\n",
       "    <tr>\n",
       "      <th>3</th>\n",
       "      <td>19</td>\n",
       "      <td>3</td>\n",
       "      <td>6193.26</td>\n",
       "      <td>6252651</td>\n",
       "      <td>35779.31</td>\n",
       "      <td>29586.04</td>\n",
       "      <td>1635829</td>\n",
       "      <td>0.00</td>\n",
       "      <td>0.00</td>\n",
       "      <td>0</td>\n",
       "      <td>0</td>\n",
       "    </tr>\n",
       "    <tr>\n",
       "      <th>4</th>\n",
       "      <td>161</td>\n",
       "      <td>3</td>\n",
       "      <td>10248.73</td>\n",
       "      <td>4110732</td>\n",
       "      <td>0.00</td>\n",
       "      <td>0.00</td>\n",
       "      <td>627425</td>\n",
       "      <td>0.00</td>\n",
       "      <td>0.00</td>\n",
       "      <td>0</td>\n",
       "      <td>0</td>\n",
       "    </tr>\n",
       "    <tr>\n",
       "      <th>5</th>\n",
       "      <td>17</td>\n",
       "      <td>1</td>\n",
       "      <td>137793.94</td>\n",
       "      <td>4438960</td>\n",
       "      <td>0.00</td>\n",
       "      <td>0.00</td>\n",
       "      <td>444316</td>\n",
       "      <td>200319.10</td>\n",
       "      <td>463368.38</td>\n",
       "      <td>0</td>\n",
       "      <td>0</td>\n",
       "    </tr>\n",
       "    <tr>\n",
       "      <th>6</th>\n",
       "      <td>164</td>\n",
       "      <td>3</td>\n",
       "      <td>3598.64</td>\n",
       "      <td>3816467</td>\n",
       "      <td>949.00</td>\n",
       "      <td>0.00</td>\n",
       "      <td>1898938</td>\n",
       "      <td>0.00</td>\n",
       "      <td>0.00</td>\n",
       "      <td>0</td>\n",
       "      <td>0</td>\n",
       "    </tr>\n",
       "    <tr>\n",
       "      <th>7</th>\n",
       "      <td>163</td>\n",
       "      <td>1</td>\n",
       "      <td>28484.24</td>\n",
       "      <td>3817212</td>\n",
       "      <td>880.00</td>\n",
       "      <td>0.00</td>\n",
       "      <td>370834</td>\n",
       "      <td>0.00</td>\n",
       "      <td>28484.24</td>\n",
       "      <td>0</td>\n",
       "      <td>0</td>\n",
       "    </tr>\n",
       "    <tr>\n",
       "      <th>8</th>\n",
       "      <td>420</td>\n",
       "      <td>3</td>\n",
       "      <td>21532.16</td>\n",
       "      <td>5580107</td>\n",
       "      <td>20438.00</td>\n",
       "      <td>0.00</td>\n",
       "      <td>1795612</td>\n",
       "      <td>0.00</td>\n",
       "      <td>0.00</td>\n",
       "      <td>0</td>\n",
       "      <td>0</td>\n",
       "    </tr>\n",
       "    <tr>\n",
       "      <th>9</th>\n",
       "      <td>401</td>\n",
       "      <td>1</td>\n",
       "      <td>200300.52</td>\n",
       "      <td>2522482</td>\n",
       "      <td>540998.00</td>\n",
       "      <td>340697.48</td>\n",
       "      <td>130815</td>\n",
       "      <td>474684.37</td>\n",
       "      <td>674984.89</td>\n",
       "      <td>0</td>\n",
       "      <td>0</td>\n",
       "    </tr>\n",
       "    <tr>\n",
       "      <th>10</th>\n",
       "      <td>354</td>\n",
       "      <td>1</td>\n",
       "      <td>161643.65</td>\n",
       "      <td>13040</td>\n",
       "      <td>0.00</td>\n",
       "      <td>0.00</td>\n",
       "      <td>481784</td>\n",
       "      <td>1180047.49</td>\n",
       "      <td>1341691.13</td>\n",
       "      <td>0</td>\n",
       "      <td>0</td>\n",
       "    </tr>\n",
       "    <tr>\n",
       "      <th>11</th>\n",
       "      <td>44</td>\n",
       "      <td>0</td>\n",
       "      <td>280037.74</td>\n",
       "      <td>4855562</td>\n",
       "      <td>258812.00</td>\n",
       "      <td>538849.74</td>\n",
       "      <td>59183</td>\n",
       "      <td>0.00</td>\n",
       "      <td>0.00</td>\n",
       "      <td>0</td>\n",
       "      <td>0</td>\n",
       "    </tr>\n",
       "    <tr>\n",
       "      <th>12</th>\n",
       "      <td>226</td>\n",
       "      <td>1</td>\n",
       "      <td>221783.38</td>\n",
       "      <td>38316</td>\n",
       "      <td>20211.00</td>\n",
       "      <td>0.00</td>\n",
       "      <td>353011</td>\n",
       "      <td>1947023.72</td>\n",
       "      <td>2168807.09</td>\n",
       "      <td>0</td>\n",
       "      <td>0</td>\n",
       "    </tr>\n",
       "    <tr>\n",
       "      <th>13</th>\n",
       "      <td>276</td>\n",
       "      <td>3</td>\n",
       "      <td>347.54</td>\n",
       "      <td>4442506</td>\n",
       "      <td>1394.00</td>\n",
       "      <td>1046.46</td>\n",
       "      <td>2386851</td>\n",
       "      <td>0.00</td>\n",
       "      <td>0.00</td>\n",
       "      <td>0</td>\n",
       "      <td>0</td>\n",
       "    </tr>\n",
       "    <tr>\n",
       "      <th>14</th>\n",
       "      <td>346</td>\n",
       "      <td>1</td>\n",
       "      <td>93812.17</td>\n",
       "      <td>5001720</td>\n",
       "      <td>94838.00</td>\n",
       "      <td>1025.83</td>\n",
       "      <td>360902</td>\n",
       "      <td>361279.47</td>\n",
       "      <td>455091.63</td>\n",
       "      <td>0</td>\n",
       "      <td>0</td>\n",
       "    </tr>\n",
       "    <tr>\n",
       "      <th>15</th>\n",
       "      <td>378</td>\n",
       "      <td>3</td>\n",
       "      <td>14295.94</td>\n",
       "      <td>5122206</td>\n",
       "      <td>19922.00</td>\n",
       "      <td>5626.06</td>\n",
       "      <td>1066969</td>\n",
       "      <td>0.00</td>\n",
       "      <td>0.00</td>\n",
       "      <td>0</td>\n",
       "      <td>0</td>\n",
       "    </tr>\n",
       "    <tr>\n",
       "      <th>16</th>\n",
       "      <td>548</td>\n",
       "      <td>3</td>\n",
       "      <td>2743.29</td>\n",
       "      <td>5023570</td>\n",
       "      <td>260337.00</td>\n",
       "      <td>257593.71</td>\n",
       "      <td>2552844</td>\n",
       "      <td>0.00</td>\n",
       "      <td>0.00</td>\n",
       "      <td>0</td>\n",
       "      <td>0</td>\n",
       "    </tr>\n",
       "    <tr>\n",
       "      <th>17</th>\n",
       "      <td>401</td>\n",
       "      <td>3</td>\n",
       "      <td>5843.03</td>\n",
       "      <td>3187856</td>\n",
       "      <td>0.00</td>\n",
       "      <td>0.00</td>\n",
       "      <td>1073026</td>\n",
       "      <td>0.00</td>\n",
       "      <td>0.00</td>\n",
       "      <td>0</td>\n",
       "      <td>0</td>\n",
       "    </tr>\n",
       "    <tr>\n",
       "      <th>18</th>\n",
       "      <td>373</td>\n",
       "      <td>1</td>\n",
       "      <td>252774.69</td>\n",
       "      <td>2886475</td>\n",
       "      <td>0.00</td>\n",
       "      <td>0.00</td>\n",
       "      <td>365695</td>\n",
       "      <td>2282658.55</td>\n",
       "      <td>2535433.24</td>\n",
       "      <td>0</td>\n",
       "      <td>0</td>\n",
       "    </tr>\n",
       "    <tr>\n",
       "      <th>19</th>\n",
       "      <td>212</td>\n",
       "      <td>1</td>\n",
       "      <td>64076.35</td>\n",
       "      <td>2359182</td>\n",
       "      <td>10634.00</td>\n",
       "      <td>0.00</td>\n",
       "      <td>296393</td>\n",
       "      <td>47632.02</td>\n",
       "      <td>111708.37</td>\n",
       "      <td>0</td>\n",
       "      <td>0</td>\n",
       "    </tr>\n",
       "  </tbody>\n",
       "</table>\n",
       "</div>"
      ],
      "text/plain": [
       "    step  type     amount  nameOrig  oldbalanceOrg  newbalanceOrig  nameDest  \\\n",
       "0    279     3   12839.66   2488915      111738.98        98899.32   1552586   \n",
       "1    275     1    3282.74   4100943           0.00            0.00    291917   \n",
       "2    353     3   27644.19   4018642       39973.00        12328.81   1694895   \n",
       "3     19     3    6193.26   6252651       35779.31        29586.04   1635829   \n",
       "4    161     3   10248.73   4110732           0.00            0.00    627425   \n",
       "5     17     1  137793.94   4438960           0.00            0.00    444316   \n",
       "6    164     3    3598.64   3816467         949.00            0.00   1898938   \n",
       "7    163     1   28484.24   3817212         880.00            0.00    370834   \n",
       "8    420     3   21532.16   5580107       20438.00            0.00   1795612   \n",
       "9    401     1  200300.52   2522482      540998.00       340697.48    130815   \n",
       "10   354     1  161643.65     13040           0.00            0.00    481784   \n",
       "11    44     0  280037.74   4855562      258812.00       538849.74     59183   \n",
       "12   226     1  221783.38     38316       20211.00            0.00    353011   \n",
       "13   276     3     347.54   4442506        1394.00         1046.46   2386851   \n",
       "14   346     1   93812.17   5001720       94838.00         1025.83    360902   \n",
       "15   378     3   14295.94   5122206       19922.00         5626.06   1066969   \n",
       "16   548     3    2743.29   5023570      260337.00       257593.71   2552844   \n",
       "17   401     3    5843.03   3187856           0.00            0.00   1073026   \n",
       "18   373     1  252774.69   2886475           0.00            0.00    365695   \n",
       "19   212     1   64076.35   2359182       10634.00            0.00    296393   \n",
       "\n",
       "    oldbalanceDest  newbalanceDest  isFraud  isFlaggedFraud  \n",
       "0             0.00            0.00        0               0  \n",
       "1       1657748.28      1661031.02        0               0  \n",
       "2             0.00            0.00        0               0  \n",
       "3             0.00            0.00        0               0  \n",
       "4             0.00            0.00        0               0  \n",
       "5        200319.10       463368.38        0               0  \n",
       "6             0.00            0.00        0               0  \n",
       "7             0.00        28484.24        0               0  \n",
       "8             0.00            0.00        0               0  \n",
       "9        474684.37       674984.89        0               0  \n",
       "10      1180047.49      1341691.13        0               0  \n",
       "11            0.00            0.00        0               0  \n",
       "12      1947023.72      2168807.09        0               0  \n",
       "13            0.00            0.00        0               0  \n",
       "14       361279.47       455091.63        0               0  \n",
       "15            0.00            0.00        0               0  \n",
       "16            0.00            0.00        0               0  \n",
       "17            0.00            0.00        0               0  \n",
       "18      2282658.55      2535433.24        0               0  \n",
       "19        47632.02       111708.37        0               0  "
      ]
     },
     "execution_count": 37,
     "metadata": {},
     "output_type": "execute_result"
    }
   ],
   "source": [
    "# Using Proportions, this means that the set will have same proportions as the Big data set, this fully represenets the data set\n",
    "N = 20\n",
    "#perform stratified random sampling\n",
    "data.groupby('isFraud', group_keys=False).apply(lambda x: x.sample(int(np.rint(N*len(x)/len(data))))).sample(frac=1).reset_index(drop=True)"
   ]
  },
  {
   "cell_type": "code",
   "execution_count": 38,
   "id": "2f6b1105",
   "metadata": {
    "scrolled": true
   },
   "outputs": [
    {
     "data": {
      "text/html": [
       "<div>\n",
       "<style scoped>\n",
       "    .dataframe tbody tr th:only-of-type {\n",
       "        vertical-align: middle;\n",
       "    }\n",
       "\n",
       "    .dataframe tbody tr th {\n",
       "        vertical-align: top;\n",
       "    }\n",
       "\n",
       "    .dataframe thead th {\n",
       "        text-align: right;\n",
       "    }\n",
       "</style>\n",
       "<table border=\"1\" class=\"dataframe\">\n",
       "  <thead>\n",
       "    <tr style=\"text-align: right;\">\n",
       "      <th></th>\n",
       "      <th>step</th>\n",
       "      <th>type</th>\n",
       "      <th>amount</th>\n",
       "      <th>nameOrig</th>\n",
       "      <th>oldbalanceOrg</th>\n",
       "      <th>newbalanceOrig</th>\n",
       "      <th>nameDest</th>\n",
       "      <th>oldbalanceDest</th>\n",
       "      <th>newbalanceDest</th>\n",
       "      <th>isFraud</th>\n",
       "      <th>isFlaggedFraud</th>\n",
       "    </tr>\n",
       "  </thead>\n",
       "  <tbody>\n",
       "    <tr>\n",
       "      <th>4812449</th>\n",
       "      <td>346</td>\n",
       "      <td>1</td>\n",
       "      <td>58929.20</td>\n",
       "      <td>3041849</td>\n",
       "      <td>4488.00</td>\n",
       "      <td>0.00</td>\n",
       "      <td>222054</td>\n",
       "      <td>3624900.98</td>\n",
       "      <td>3683830.18</td>\n",
       "      <td>0</td>\n",
       "      <td>0</td>\n",
       "    </tr>\n",
       "    <tr>\n",
       "      <th>3375326</th>\n",
       "      <td>254</td>\n",
       "      <td>1</td>\n",
       "      <td>37261.20</td>\n",
       "      <td>4913595</td>\n",
       "      <td>0.00</td>\n",
       "      <td>0.00</td>\n",
       "      <td>285511</td>\n",
       "      <td>418633.43</td>\n",
       "      <td>455894.62</td>\n",
       "      <td>0</td>\n",
       "      <td>0</td>\n",
       "    </tr>\n",
       "    <tr>\n",
       "      <th>2134782</th>\n",
       "      <td>184</td>\n",
       "      <td>3</td>\n",
       "      <td>26951.71</td>\n",
       "      <td>3806896</td>\n",
       "      <td>402823.00</td>\n",
       "      <td>375871.29</td>\n",
       "      <td>1358781</td>\n",
       "      <td>0.00</td>\n",
       "      <td>0.00</td>\n",
       "      <td>0</td>\n",
       "      <td>0</td>\n",
       "    </tr>\n",
       "    <tr>\n",
       "      <th>2112305</th>\n",
       "      <td>183</td>\n",
       "      <td>4</td>\n",
       "      <td>627903.12</td>\n",
       "      <td>623140</td>\n",
       "      <td>627903.12</td>\n",
       "      <td>0.00</td>\n",
       "      <td>214894</td>\n",
       "      <td>0.00</td>\n",
       "      <td>0.00</td>\n",
       "      <td>1</td>\n",
       "      <td>0</td>\n",
       "    </tr>\n",
       "    <tr>\n",
       "      <th>4863913</th>\n",
       "      <td>348</td>\n",
       "      <td>4</td>\n",
       "      <td>291264.20</td>\n",
       "      <td>2943898</td>\n",
       "      <td>291264.20</td>\n",
       "      <td>0.00</td>\n",
       "      <td>535601</td>\n",
       "      <td>0.00</td>\n",
       "      <td>0.00</td>\n",
       "      <td>1</td>\n",
       "      <td>0</td>\n",
       "    </tr>\n",
       "    <tr>\n",
       "      <th>3611350</th>\n",
       "      <td>273</td>\n",
       "      <td>1</td>\n",
       "      <td>159106.12</td>\n",
       "      <td>1195330</td>\n",
       "      <td>159106.12</td>\n",
       "      <td>0.00</td>\n",
       "      <td>372185</td>\n",
       "      <td>0.00</td>\n",
       "      <td>159106.12</td>\n",
       "      <td>1</td>\n",
       "      <td>0</td>\n",
       "    </tr>\n",
       "  </tbody>\n",
       "</table>\n",
       "</div>"
      ],
      "text/plain": [
       "         step  type     amount  nameOrig  oldbalanceOrg  newbalanceOrig  \\\n",
       "4812449   346     1   58929.20   3041849        4488.00            0.00   \n",
       "3375326   254     1   37261.20   4913595           0.00            0.00   \n",
       "2134782   184     3   26951.71   3806896      402823.00       375871.29   \n",
       "2112305   183     4  627903.12    623140      627903.12            0.00   \n",
       "4863913   348     4  291264.20   2943898      291264.20            0.00   \n",
       "3611350   273     1  159106.12   1195330      159106.12            0.00   \n",
       "\n",
       "         nameDest  oldbalanceDest  newbalanceDest  isFraud  isFlaggedFraud  \n",
       "4812449    222054      3624900.98      3683830.18        0               0  \n",
       "3375326    285511       418633.43       455894.62        0               0  \n",
       "2134782   1358781            0.00            0.00        0               0  \n",
       "2112305    214894            0.00            0.00        1               0  \n",
       "4863913    535601            0.00            0.00        1               0  \n",
       "3611350    372185            0.00       159106.12        1               0  "
      ]
     },
     "execution_count": 38,
     "metadata": {},
     "output_type": "execute_result"
    }
   ],
   "source": [
    "# a second possible way for this is by specifing the number of the counts itsefl, for example we need a sample of 3 zeros and 3 ones.\n",
    "data.groupby('isFraud', group_keys=False).apply(lambda x: x.sample(3))"
   ]
  },
  {
   "cell_type": "markdown",
   "id": "ed84c240",
   "metadata": {},
   "source": [
    "# <center> SVM </center>"
   ]
  },
  {
   "cell_type": "code",
   "execution_count": 117,
   "id": "8382c3eb",
   "metadata": {},
   "outputs": [],
   "source": [
    "# Using Proportions, this means that the set will have same proportions as the Big data set, this fully represenets the data set\n",
    "N = 100000\n",
    "#perform stratified random sampling\n",
    "Stratified_data=data.groupby('isFraud', group_keys=False).apply(lambda x: x.sample(int(np.rint(N*len(x)/len(data))))).sample(frac=1).reset_index(drop=True)"
   ]
  },
  {
   "cell_type": "code",
   "execution_count": 118,
   "id": "bb963f5d",
   "metadata": {},
   "outputs": [
    {
     "data": {
      "text/html": [
       "<div>\n",
       "<style scoped>\n",
       "    .dataframe tbody tr th:only-of-type {\n",
       "        vertical-align: middle;\n",
       "    }\n",
       "\n",
       "    .dataframe tbody tr th {\n",
       "        vertical-align: top;\n",
       "    }\n",
       "\n",
       "    .dataframe thead th {\n",
       "        text-align: right;\n",
       "    }\n",
       "</style>\n",
       "<table border=\"1\" class=\"dataframe\">\n",
       "  <thead>\n",
       "    <tr style=\"text-align: right;\">\n",
       "      <th></th>\n",
       "      <th>step</th>\n",
       "      <th>type</th>\n",
       "      <th>amount</th>\n",
       "      <th>nameOrig</th>\n",
       "      <th>oldbalanceOrg</th>\n",
       "      <th>newbalanceOrig</th>\n",
       "      <th>nameDest</th>\n",
       "      <th>oldbalanceDest</th>\n",
       "      <th>newbalanceDest</th>\n",
       "      <th>isFraud</th>\n",
       "      <th>isFlaggedFraud</th>\n",
       "    </tr>\n",
       "  </thead>\n",
       "  <tbody>\n",
       "    <tr>\n",
       "      <th>0</th>\n",
       "      <td>303</td>\n",
       "      <td>3</td>\n",
       "      <td>28667.60</td>\n",
       "      <td>4784053</td>\n",
       "      <td>31415.0</td>\n",
       "      <td>2747.40</td>\n",
       "      <td>1296759</td>\n",
       "      <td>0.00</td>\n",
       "      <td>0.00</td>\n",
       "      <td>0</td>\n",
       "      <td>0</td>\n",
       "    </tr>\n",
       "    <tr>\n",
       "      <th>1</th>\n",
       "      <td>234</td>\n",
       "      <td>1</td>\n",
       "      <td>29570.23</td>\n",
       "      <td>1757305</td>\n",
       "      <td>121808.0</td>\n",
       "      <td>92237.77</td>\n",
       "      <td>228576</td>\n",
       "      <td>0.00</td>\n",
       "      <td>29570.23</td>\n",
       "      <td>0</td>\n",
       "      <td>0</td>\n",
       "    </tr>\n",
       "    <tr>\n",
       "      <th>2</th>\n",
       "      <td>228</td>\n",
       "      <td>3</td>\n",
       "      <td>28402.35</td>\n",
       "      <td>673589</td>\n",
       "      <td>293.0</td>\n",
       "      <td>0.00</td>\n",
       "      <td>614527</td>\n",
       "      <td>0.00</td>\n",
       "      <td>0.00</td>\n",
       "      <td>0</td>\n",
       "      <td>0</td>\n",
       "    </tr>\n",
       "    <tr>\n",
       "      <th>3</th>\n",
       "      <td>402</td>\n",
       "      <td>4</td>\n",
       "      <td>314765.78</td>\n",
       "      <td>2351797</td>\n",
       "      <td>60718.0</td>\n",
       "      <td>0.00</td>\n",
       "      <td>338700</td>\n",
       "      <td>44820.53</td>\n",
       "      <td>359586.30</td>\n",
       "      <td>0</td>\n",
       "      <td>0</td>\n",
       "    </tr>\n",
       "    <tr>\n",
       "      <th>4</th>\n",
       "      <td>350</td>\n",
       "      <td>1</td>\n",
       "      <td>353034.86</td>\n",
       "      <td>2039892</td>\n",
       "      <td>0.0</td>\n",
       "      <td>0.00</td>\n",
       "      <td>52094</td>\n",
       "      <td>3572426.61</td>\n",
       "      <td>3925461.47</td>\n",
       "      <td>0</td>\n",
       "      <td>0</td>\n",
       "    </tr>\n",
       "  </tbody>\n",
       "</table>\n",
       "</div>"
      ],
      "text/plain": [
       "   step  type     amount  nameOrig  oldbalanceOrg  newbalanceOrig  nameDest  \\\n",
       "0   303     3   28667.60   4784053        31415.0         2747.40   1296759   \n",
       "1   234     1   29570.23   1757305       121808.0        92237.77    228576   \n",
       "2   228     3   28402.35    673589          293.0            0.00    614527   \n",
       "3   402     4  314765.78   2351797        60718.0            0.00    338700   \n",
       "4   350     1  353034.86   2039892            0.0            0.00     52094   \n",
       "\n",
       "   oldbalanceDest  newbalanceDest  isFraud  isFlaggedFraud  \n",
       "0            0.00            0.00        0               0  \n",
       "1            0.00        29570.23        0               0  \n",
       "2            0.00            0.00        0               0  \n",
       "3        44820.53       359586.30        0               0  \n",
       "4      3572426.61      3925461.47        0               0  "
      ]
     },
     "execution_count": 118,
     "metadata": {},
     "output_type": "execute_result"
    }
   ],
   "source": [
    "Stratified_data.head()"
   ]
  },
  {
   "cell_type": "code",
   "execution_count": 119,
   "id": "636a19e4",
   "metadata": {},
   "outputs": [],
   "source": [
    "# axis : {0 or 'index', 1 or 'columns'}, default 0 Whether to drop labels from the index (0 or 'index') or columns (1 or 'columns').\n",
    "X = Stratified_data.drop('isFraud', axis=1)\n",
    "y = Stratified_data['isFraud']\n"
   ]
  },
  {
   "cell_type": "code",
   "execution_count": 120,
   "id": "d9f47c41",
   "metadata": {},
   "outputs": [],
   "source": [
    "scaler = MinMaxScaler()\n",
    "scaler.fit(X)\n",
    "X = scaler.transform(X)"
   ]
  },
  {
   "cell_type": "code",
   "execution_count": 121,
   "id": "f7e80b63",
   "metadata": {},
   "outputs": [],
   "source": [
    "X_train, X_test, y_train, y_test = train_test_split(X, y, test_size=0.2)\n",
    "X_train, X_valid, y_train, y_valid = train_test_split(X_train, y_train, \n",
    "    test_size=0.25) #0.8*0.25=0.2"
   ]
  },
  {
   "cell_type": "code",
   "execution_count": 89,
   "id": "2471415f",
   "metadata": {},
   "outputs": [
    {
     "name": "stdout",
     "output_type": "stream",
     "text": [
      "Model accuracy score with default hyperparameters: 0.9982\n"
     ]
    }
   ],
   "source": [
    "# import SVC classifier\n",
    "from sklearn.svm import SVC\n",
    "\n",
    "\n",
    "# import metrics to compute accuracy\n",
    "from sklearn.metrics import accuracy_score\n",
    "\n",
    "\n",
    "# instantiate classifier with default hyperparameters\n",
    "svc=SVC() \n",
    "\n",
    "\n",
    "# fit classifier to training set\n",
    "svc.fit(X_train,y_train)\n",
    "\n",
    "\n",
    "# make predictions on test set\n",
    "y_pred=svc.predict(X_test)\n",
    "\n",
    "\n",
    "# compute and print accuracy score\n",
    "print('Model accuracy score with default hyperparameters: {0:0.4f}'. format(accuracy_score(y_test, y_pred)))"
   ]
  },
  {
   "cell_type": "markdown",
   "id": "9bbed782",
   "metadata": {},
   "source": [
    "##### Cleary the accuracy of the SVM and the  accuracy of logistic regression are so close."
   ]
  },
  {
   "cell_type": "markdown",
   "id": "69b1bf9c",
   "metadata": {},
   "source": [
    "### <center> Changing the degree of the logistic regression </center>"
   ]
  },
  {
   "cell_type": "code",
   "execution_count": 122,
   "id": "d2cb3a34",
   "metadata": {},
   "outputs": [],
   "source": [
    "from sklearn.preprocessing import PolynomialFeatures\n",
    "def poly(deg):\n",
    "    poly = PolynomialFeatures(degree = deg, interaction_only=False, include_bias=False)\n",
    "    X_poly = poly.fit_transform(X_train)\n",
    "    X_valid_pol=poly.transform(X_valid)\n",
    "    lr = LogisticRegression()\n",
    "    lr.fit(X_poly,y_train)\n",
    "    return lr.score(X_poly, y_train), lr.score(X_valid_pol, y_valid)"
   ]
  },
  {
   "cell_type": "code",
   "execution_count": 128,
   "id": "9c8940e6",
   "metadata": {},
   "outputs": [],
   "source": [
    "listy_list_train=[]\n",
    "listy_list_valid=[]\n",
    "for deg in range(1,8):\n",
    "    train, valid=poly(deg)\n",
    "    listy_list_train.append(train)\n",
    "    listy_list_valid.append(valid)"
   ]
  },
  {
   "cell_type": "code",
   "execution_count": 129,
   "id": "e1636af6",
   "metadata": {},
   "outputs": [
    {
     "data": {
      "text/plain": [
       "[0.9988333333333334,\n",
       " 0.99885,\n",
       " 0.99885,\n",
       " 0.99885,\n",
       " 0.9988666666666667,\n",
       " 0.9988666666666667,\n",
       " 0.9988666666666667]"
      ]
     },
     "execution_count": 129,
     "metadata": {},
     "output_type": "execute_result"
    }
   ],
   "source": [
    "listy_list_train"
   ]
  },
  {
   "cell_type": "code",
   "execution_count": 130,
   "id": "b9b1349c",
   "metadata": {},
   "outputs": [
    {
     "data": {
      "text/plain": [
       "[<matplotlib.lines.Line2D at 0x1373169c7c0>]"
      ]
     },
     "execution_count": 130,
     "metadata": {},
     "output_type": "execute_result"
    },
    {
     "data": {
      "image/png": "[encoded data removed]",
      "text/plain": [
       "<Figure size 360x360 with 1 Axes>"
      ]
     },
     "metadata": {
      "needs_background": "light"
     },
     "output_type": "display_data"
    }
   ],
   "source": [
    "plt.figure(figsize=[5,5])\n",
    "\n",
    "plt.plot(range(0, len(listy_list_train)), listy_list_train, color ='b')"
   ]
  },
  {
   "cell_type": "code",
   "execution_count": 131,
   "id": "f865a3d0",
   "metadata": {},
   "outputs": [
    {
     "data": {
      "text/plain": [
       "[<matplotlib.lines.Line2D at 0x1372d5cdd90>]"
      ]
     },
     "execution_count": 131,
     "metadata": {},
     "output_type": "execute_result"
    },
    {
     "data": {
      "image/png": "[encoded data removed]",
      "text/plain": [
       "<Figure size 360x360 with 1 Axes>"
      ]
     },
     "metadata": {
      "needs_background": "light"
     },
     "output_type": "display_data"
    }
   ],
   "source": [
    "plt.figure(figsize=[5,5])\n",
    "plt.plot(range(0, len(listy_list_valid)), listy_list_valid, color ='b')"
   ]
  },
  {
   "cell_type": "code",
   "execution_count": 132,
   "id": "50405a3a",
   "metadata": {},
   "outputs": [
    {
     "data": {
      "text/plain": [
       "[0.9986, 0.99865, 0.9987, 0.9987, 0.9987, 0.9987, 0.9987]"
      ]
     },
     "execution_count": 132,
     "metadata": {},
     "output_type": "execute_result"
    }
   ],
   "source": [
    "listy_list_valid"
   ]
  },
  {
   "cell_type": "markdown",
   "id": "3db85b45",
   "metadata": {},
   "source": [
    "### <center> Changing the parameters of logistic regression </center>"
   ]
  },
  {
   "cell_type": "code",
   "execution_count": 143,
   "id": "77928b1c",
   "metadata": {},
   "outputs": [],
   "source": [
    "import numpy as np\n",
    "from sklearn.linear_model import LinearRegression"
   ]
  },
  {
   "cell_type": "code",
   "execution_count": 144,
   "id": "97a3b0ca",
   "metadata": {},
   "outputs": [
    {
     "data": {
      "text/plain": [
       "LogisticRegression(penalty='none', random_state=0)"
      ]
     },
     "execution_count": 144,
     "metadata": {},
     "output_type": "execute_result"
    }
   ],
   "source": [
    "classifier = LogisticRegression(penalty= 'none',random_state = 0)\n",
    "classifier.fit(X_train, y_train)"
   ]
  },
  {
   "cell_type": "code",
   "execution_count": 156,
   "id": "17bc6428",
   "metadata": {},
   "outputs": [
    {
     "data": {
      "text/plain": [
       "array([[-7.01932147,  5.26257872,  7.72535334,  0.08889079,  6.38539475,\n",
       "         1.3299179 ,  6.99438949, -6.62432802,  1.32884271,  6.39186306]])"
      ]
     },
     "execution_count": 156,
     "metadata": {},
     "output_type": "execute_result"
    }
   ],
   "source": [
    "classifier.coef_"
   ]
  },
  {
   "cell_type": "code",
   "execution_count": 164,
   "id": "430d0722",
   "metadata": {},
   "outputs": [],
   "source": [
    "train_list=[]\n",
    "valid_list=[]\n",
    "test_list=[]\n",
    "for i in range(0, 10000):\n",
    "    classifier.coef_= np.random.uniform(-10, 10,[1,10])\n",
    "    # reg.predict(X_train)\n",
    "    train_list.append(np.sqrt(mean_squared_error(classifier.predict(X_train), y_train)))\n",
    "    valid_list.append(np.sqrt(mean_squared_error(classifier.predict(X_valid), y_valid)))\n",
    "    test_list.append(np.sqrt(mean_squared_error(classifier.predict(X_test), y_test)))"
   ]
  },
  {
   "cell_type": "code",
   "execution_count": 165,
   "id": "28702abb",
   "metadata": {},
   "outputs": [
    {
     "data": {
      "text/plain": [
       "array([[ 7.41461931, -3.08275092, -0.18608908, -2.30582392,  3.37248317,\n",
       "        -0.17201437,  9.77458864,  6.11450466, -5.25918356, -8.51989834]])"
      ]
     },
     "execution_count": 165,
     "metadata": {},
     "output_type": "execute_result"
    }
   ],
   "source": [
    "classifier.coef_"
   ]
  },
  {
   "cell_type": "code",
   "execution_count": 166,
   "id": "c82ce296",
   "metadata": {},
   "outputs": [
    {
     "data": {
      "text/plain": [
       "(0.033166247903554, 0.035355339059327376, 0.03872983346207417)"
      ]
     },
     "execution_count": 166,
     "metadata": {},
     "output_type": "execute_result"
    }
   ],
   "source": [
    "np.min(train_list), np.min(valid_list), np.min(test_list)"
   ]
  },
  {
   "cell_type": "code",
   "execution_count": 167,
   "id": "37e2a120",
   "metadata": {},
   "outputs": [
    {
     "data": {
      "text/plain": [
       "(2842, 4027, 4027)"
      ]
     },
     "execution_count": 167,
     "metadata": {},
     "output_type": "execute_result"
    }
   ],
   "source": [
    "np.argmin(train_list), np.argmin(valid_list), np.argmin(test_list)"
   ]
  },
  {
   "cell_type": "code",
   "execution_count": 168,
   "id": "5aad9330",
   "metadata": {},
   "outputs": [],
   "source": [
    "import numpy as np"
   ]
  },
  {
   "cell_type": "code",
   "execution_count": 169,
   "id": "0c1da5bf",
   "metadata": {},
   "outputs": [],
   "source": [
    "from sklearn.linear_model import LogisticRegression"
   ]
  },
  {
   "cell_type": "code",
   "execution_count": 170,
   "id": "575c479a",
   "metadata": {},
   "outputs": [
    {
     "name": "stdout",
     "output_type": "stream",
     "text": [
      "0.034156502553198666\n",
      "0.03741657386773942\n",
      "0.039370039370059055\n"
     ]
    }
   ],
   "source": [
    "reg = LogisticRegression().fit(X_train, y_train)\n",
    "print(np.sqrt(mean_squared_error(reg.predict(X_train), y_train)))\n",
    "print(np.sqrt(mean_squared_error(reg.predict(X_valid), y_valid)))\n",
    "print(np.sqrt(mean_squared_error(reg.predict(X_test), y_test)))"
   ]
  },
  {
   "cell_type": "markdown",
   "id": "ef3522e0",
   "metadata": {},
   "source": [
    "From the above results after runing 10000 random coifficients we can conclude that the best tuple of the random solution\n",
    "is close to the best solution of the automatically defined solution. Although the close of the values yet the predefined coff are better than the random sol."
   ]
  },
  {
   "cell_type": "markdown",
   "id": "773fea24",
   "metadata": {},
   "source": [
    "# <center> Logistic regression from scratch </center>"
   ]
  },
  {
   "cell_type": "markdown",
   "id": "152b0003",
   "metadata": {},
   "source": [
    "https://towardsdatascience.com/a-complete-logistic-regression-algorithm-from-scratch-in-python-step-by-step-ce33eae7d703"
   ]
  },
  {
   "cell_type": "markdown",
   "id": "cf86501b",
   "metadata": {},
   "source": [
    "### 1. Develop the hypothesis."
   ]
  },
  {
   "cell_type": "code",
   "execution_count": 39,
   "id": "df61396b",
   "metadata": {},
   "outputs": [],
   "source": [
    "def hypothesis(X, theta):\n",
    "    z = np.dot(theta, X.T)\n",
    "    return 1/(1+np.exp(-(z))) - 0.0000001\n",
    "# deducted 0.0000001 from the output here because of this expression in the cost log(1-h)"
   ]
  },
  {
   "cell_type": "markdown",
   "id": "2bb5168a",
   "metadata": {},
   "source": [
    "### 2. Determine the cost function."
   ]
  },
  {
   "cell_type": "code",
   "execution_count": 40,
   "id": "61406572",
   "metadata": {},
   "outputs": [],
   "source": [
    "def cost(y_predict, y):\n",
    "    y1 = y_predict\n",
    "    return -(1/len(X)) * np.sum(y*np.log(y1) + (1-y)*np.log(1-y1))\n",
    "# This is just a straightforward implementation of the cost function equation above."
   ]
  },
  {
   "cell_type": "markdown",
   "id": "05d1e9d9",
   "metadata": {},
   "source": [
    "### 3. Update the theta values."
   ]
  },
  {
   "cell_type": "code",
   "execution_count": 41,
   "id": "96ef0762",
   "metadata": {},
   "outputs": [],
   "source": [
    "def gradient_descent(X, y, theta, alpha, epochs):\n",
    "    m =len(X)\n",
    "    J = [cost(X, y, theta)] \n",
    "    for i in range(0, epochs):\n",
    "        h = hypothesis(X, theta)\n",
    "        for i in range(0, len(X.columns)):\n",
    "            theta[i] -= (alpha/m) * np.sum((h-y)*X.iloc[:, i])\n",
    "        J.append(cost(X, y, theta))\n",
    "    return J, theta"
   ]
  },
  {
   "cell_type": "markdown",
   "id": "ade2e83f",
   "metadata": {},
   "source": [
    "### 4. Calculate the final prediction and accuracy"
   ]
  },
  {
   "cell_type": "code",
   "execution_count": 42,
   "id": "68e03c09",
   "metadata": {},
   "outputs": [],
   "source": [
    "def predict(X, y, theta, alpha, epochs):\n",
    "    J, th = gradient_descent(X, y, theta, alpha, epochs) \n",
    "    h = hypothesis(X, theta)\n",
    "    for i in range(len(h)):\n",
    "        h[i]=1 if h[i]>=0.5 else 0\n",
    "    y = list(y)\n",
    "    acc = np.sum([y[i] == h[i] for i in range(len(y))])/len(y)\n",
    "    return J, acc"
   ]
  },
  {
   "cell_type": "markdown",
   "id": "d96778a5",
   "metadata": {},
   "source": [
    "# <center> <font color='red'>تم بحمد الله وتوفيقه</font> </center>"
   ]
  }
 ],
 "metadata": {
  "kernelspec": {
   "display_name": "Python 3",
   "language": "python",
   "name": "python3"
  }
 },
 "nbformat": 4,
 "nbformat_minor": 5
}
